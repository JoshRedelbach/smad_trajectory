{
 "cells": [
  {
   "cell_type": "markdown",
   "metadata": {},
   "source": [
    "# Mass Estimation of the Entire Mission using Deorbiting V2"
   ]
  },
  {
   "cell_type": "code",
   "execution_count": 9,
   "metadata": {},
   "outputs": [],
   "source": [
    "import math\n",
    "\n",
    "# Constants\n",
    "g0 = 9.81  # Earth's gravitational acceleration (m/s^2)\n",
    "\n",
    "# Rocket equation to compute propellant mass for a given delta-v, I_sp, and final mass\n",
    "def propellant_mass(delta_v, I_sp, mf):\n",
    "    m0 = math.exp(delta_v / (I_sp * g0)) * mf\n",
    "    return m0 - mf\n",
    "\n",
    "# Inputs (example values, modify these)\n",
    "delta_v1 = 7000                                 # Delta-v for Earth escape (m/s)\n",
    "delta_v2 = 100                                  # Delta-v for Jupiter flyby (m/s)\n",
    "delta_v3 = 6200                                 # Delta-v for Saturn orbit insertion (m/s)\n",
    "\n",
    "I_sp_stage1 = 453.8                             # Specific impulse of the first engine (s)\n",
    "I_sp_stage2 = 312                               # Specific impulse of the second engine (s)\n",
    "\n",
    "m_tank_stage_1 = 2950\n",
    "m_dry_stage_1 = 188 + m_tank_stage_1;           # Mass of first engine/stage (kg)\n",
    "\n",
    "m_tank_stage_2 = 340\n",
    "m_sc = 900 + m_tank_stage_2;                    # Mass of spacecraft kg assumption\n",
    "\n",
    "# Third stage: Saturn orbit insertion\n",
    "m_stage3_final = m_sc                           # Final mass at this stage\n",
    "propellant3 = propellant_mass(delta_v3, I_sp_stage2, m_stage3_final)\n",
    "\n",
    "# Second stage: Jupiter flyby (initial mass includes propellant for third stage)\n",
    "m_stage2_final = m_sc + propellant3\n",
    "propellant2 = propellant_mass(delta_v2, I_sp_stage2, m_stage2_final)\n",
    "\n",
    "# First stage: Earth escape (initial mass includes propellant for second and third stages)\n",
    "m_stage1_final = m_sc + propellant2 + propellant3 + m_dry_stage_1\n",
    "propellant1 = propellant_mass(delta_v1, I_sp_stage1, m_stage1_final)\n",
    "\n",
    "# Total mass at liftoff\n",
    "total_mass_at_liftoff = m_sc + propellant1 + propellant2 + propellant3 + m_dry_stage_1\n",
    "total_mass_of_propellant = propellant1 + propellant2 + propellant3"
   ]
  },
  {
   "cell_type": "markdown",
   "metadata": {},
   "source": [
    "#### Print Results"
   ]
  },
  {
   "cell_type": "code",
   "execution_count": 10,
   "metadata": {},
   "outputs": [
    {
     "name": "stdout",
     "output_type": "stream",
     "text": [
      "Propellant mass for Earth escape: \t\t49067.46 kg\n",
      "Propellant mass for Jupiter flyby: \t\t312.21 kg\n",
      "Propellant mass for Saturn orbit insertion: \t8160.65 kg\n",
      "\n",
      "Propellant mass in total: \t\t\t57540.32 kg\n",
      "\n",
      "Total mass at liftoff: \t\t\t\t61918.32 kg\n"
     ]
    }
   ],
   "source": [
    "print(f\"Propellant mass for Earth escape: \\t\\t{propellant1:.2f} kg\")\n",
    "print(f\"Propellant mass for Jupiter flyby: \\t\\t{propellant2:.2f} kg\")\n",
    "print(f\"Propellant mass for Saturn orbit insertion: \\t{propellant3:.2f} kg\")\n",
    "print(f\"\\nPropellant mass in total: \\t\\t\\t{total_mass_of_propellant:.2f} kg\")\n",
    "print(f\"\\nTotal mass at liftoff: \\t\\t\\t\\t{total_mass_at_liftoff:.2f} kg\")"
   ]
  },
  {
   "cell_type": "markdown",
   "metadata": {},
   "source": [
    "#### Check if propellant would fit into tank capacity"
   ]
  },
  {
   "cell_type": "code",
   "execution_count": 11,
   "metadata": {},
   "outputs": [
    {
     "name": "stdout",
     "output_type": "stream",
     "text": [
      "Tank 1 is sufficient.\n",
      "Tank 2 is sufficient.\n"
     ]
    }
   ],
   "source": [
    "cap_required_1 = 0.06 * propellant1\n",
    "cap_required_2 = 0.04 * (propellant3 + propellant2)\n",
    "\n",
    "if cap_required_1 <= m_tank_stage_1:\n",
    "    print(\"Tank 1 is sufficient.\")\n",
    "else: \n",
    "    print(\"Tank 1 is not sufficient.\")\n",
    "\n",
    "if cap_required_2 <= m_tank_stage_2:\n",
    "    print(\"Tank 2 is sufficient.\")\n",
    "else: \n",
    "    print(\"Tank 2 is not sufficient.\")"
   ]
  },
  {
   "cell_type": "markdown",
   "metadata": {},
   "source": [
    "#### Calculate burn time"
   ]
  },
  {
   "cell_type": "code",
   "execution_count": 12,
   "metadata": {},
   "outputs": [
    {
     "name": "stdout",
     "output_type": "stream",
     "text": [
      "Burn time 1:\t\t\t1985.7948458298524\n",
      "Burn time 2:\t\t\t1950.1842211898665\n",
      "Burn time 3:\t\t\t50974.40048940508\n"
     ]
    }
   ],
   "source": [
    "f_engine_1 = 110000\n",
    "f_engine_2 = 490\n",
    "\n",
    "mdot_1 = f_engine_1 / (I_sp_stage1 * g0)\n",
    "burn_time_1 = propellant1 / mdot_1\n",
    "\n",
    "mdot_2 = f_engine_2 / (I_sp_stage2 * g0)\n",
    "burn_time_2 = propellant2 / mdot_2\n",
    "\n",
    "mdot_3 = f_engine_2 / (I_sp_stage2 * g0)\n",
    "burn_time_3 = propellant3 / mdot_3\n",
    "\n",
    "print(f\"Burn time 1:\\t\\t\\t{burn_time_1}\")\n",
    "print(f\"Burn time 2:\\t\\t\\t{burn_time_2}\")\n",
    "print(f\"Burn time 3:\\t\\t\\t{burn_time_3}\")"
   ]
  }
 ],
 "metadata": {
  "kernelspec": {
   "display_name": "detumbling_3-9",
   "language": "python",
   "name": "python3"
  },
  "language_info": {
   "codemirror_mode": {
    "name": "ipython",
    "version": 3
   },
   "file_extension": ".py",
   "mimetype": "text/x-python",
   "name": "python",
   "nbconvert_exporter": "python",
   "pygments_lexer": "ipython3",
   "version": "3.9.13"
  }
 },
 "nbformat": 4,
 "nbformat_minor": 2
}
